{
 "cells": [
  {
   "cell_type": "markdown",
   "metadata": {},
   "source": [
    "There are several parsing steps that just put data into objects\n",
    "1. Parse the PSM files and get out Organism and Protein objects (currently done with .txt. goal to get .mzIdentML)\n",
    "2. Parse the KEGG pathway membership file that says which KOs belong in which pathways\n",
    "3.\n"
   ]
  },
  {
   "cell_type": "code",
   "execution_count": 1,
   "metadata": {
    "collapsed": false
   },
   "outputs": [
    {
     "name": "stdout",
     "output_type": "stream",
     "text": [
      "I got this path PSMFilesAssociatedByOrganism_new.txt\n",
      "Associating 205 files from 44 organisms\n"
     ]
    }
   ],
   "source": [
    "import IdentifyingPeptidesAndProteins\n",
    "Parser = IdentifyingPeptidesAndProteins.ParserClass()\n",
    "#parameters\n",
    "DirectoryOfPSMs = \"VanillaSearches.DataPackage1527\"\n",
    "FileToOrganismAssociation = \"PSMFilesAssociatedByOrganism_new.txt\"\n",
    "Parser.AddFiles(DirectoryOfPSMs, FileToOrganismAssociation)\n",
    "Parser.SetQvalue(0.0001)\n",
    "Parser.Main()"
   ]
  },
  {
   "cell_type": "markdown",
   "metadata": {},
   "source": [
    "so now there is a 'Parser.OrganismObjectsDictionary' variable that holds all the proteins and peptides found in an organism.\n",
    "\n",
    "The peptides are in the Protein object inside a dictionary keyed on their sequence"
   ]
  },
  {
   "cell_type": "code",
   "execution_count": 2,
   "metadata": {
    "collapsed": false
   },
   "outputs": [
    {
     "name": "stdout",
     "output_type": "stream",
     "text": [
      "for Paenibacillus polymyxa ATCC842 there are 286 modified proteins\n",
      "for Sulfobacillus thermosulfidooxidans DSMZ 9293 there are 314 modified proteins\n",
      "for Lactobacillus casei ATCC 334 there are 311 modified proteins\n",
      "for Ruminococcus gnavus ATCC 29149 there are 252 modified proteins\n",
      "for Francisella novicida U112 there are 464 modified proteins\n",
      "for Faecalibacterium prausnitzii ATCC 27766 there are 423 modified proteins\n",
      "for Dorea longicatena DSM13814 there are 165 modified proteins\n",
      "for Bacillus cereus ATCC14579 there are 464 modified proteins\n",
      "for Bacteroides fraglilis 638R there are 649 modified proteins\n",
      "for Synechococcus elongatus PCC 7942 there are 464 modified proteins\n",
      "for Bacteroides thetaiotaomicron VPI15482 there are 672 modified proteins\n",
      "for Streptococcus agalactiae ATCC 27956 there are 263 modified proteins\n",
      "for Acidiphilium cryptum JF-5 there are 248 modified proteins\n",
      "for Campylobacter jejuni F38011 there are 517 modified proteins\n",
      "for Bacillus subtilis NCIB3610 there are 479 modified proteins\n",
      "for Delftia acidovorans there are 426 modified proteins\n",
      "for Halomonas HL-93 there are 131 modified proteins\n",
      "for Paracoccus denitrificans ATCC 19367 there are 466 modified proteins\n",
      "for Algoriphagus HL-49 there are 390 modified proteins\n",
      "for Rhodopseudomonas palustris CGA009 there are 903 modified proteins\n",
      "for Roseibaca HL-91 there are 366 modified proteins\n",
      "for Anaerococcus hydrogenalis DSM 7454 there are 329 modified proteins\n",
      "for Mycobacterium smegmatis there are 353 modified proteins\n",
      "for Halomonas HL-48 there are 283 modified proteins\n",
      "for Micrococcus luteus ATCC 49732 there are 334 modified proteins\n",
      "for Alcaligenes faecalis there are 393 modified proteins\n",
      "for Stigmatella aurantiaca DW4/3-1 there are 290 modified proteins\n",
      "for Citrobacter freundii UCI31 there are 571 modified proteins\n",
      "for Cyanobacterium staneri HL-69 there are 397 modified proteins\n",
      "for Clostridium ljungdahlii DMS 13528 ATCC 55383 there are 483 modified proteins\n",
      "for Legionella pneumophila Philadelphia 1 there are 300 modified proteins\n",
      "for Coprococcus comes ATCC 27758 there are 510 modified proteins\n",
      "for Pseudomonas putida KT2440 WT there are 551 modified proteins\n",
      "for Bifidobacterium (longum) infantis there are 255 modified proteins\n",
      "for Streptomyces venezuelae ATCC 10712 there are 207 modified proteins\n",
      "for Bifidobacterium bifidum there are 248 modified proteins\n",
      "for Chryseobacterium indologenes there are 347 modified proteins\n",
      "for Myxococcus xanthus DZ2 there are 492 modified proteins\n",
      "for Cellulophaga baltica 18 there are 674 modified proteins\n",
      "for Cellulomonas gilvus ATCC 13127 there are 419 modified proteins\n",
      "for Prevotella ruminicola 23 ATCC 19189 there are 592 modified proteins\n",
      "for Fibrobacter succinogenes S85 there are 413 modified proteins\n",
      "for Bacillus subtilis 168 there are 460 modified proteins\n",
      "for Erythrobacter HL-111 there are 374 modified proteins\n"
     ]
    }
   ],
   "source": [
    "for OrganismName in Parser.OrganismObjectsDictionary:\n",
    "    OrganismObject = Parser.OrganismObjectsDictionary[OrganismName]\n",
    "    ModifiedProteinList = OrganismObject.GetModifiedProteinList()\n",
    "    print(\"for %s there are %s modified proteins\"%(OrganismName, len(ModifiedProteinList)))\n",
    "    #now we test this list of protiens against the KEGG pathways for enrichment using a Fisher's Exact Test"
   ]
  }
 ],
 "metadata": {
  "anaconda-cloud": {},
  "kernelspec": {
   "display_name": "Python [default]",
   "language": "python",
   "name": "python3"
  },
  "language_info": {
   "codemirror_mode": {
    "name": "ipython",
    "version": 3
   },
   "file_extension": ".py",
   "mimetype": "text/x-python",
   "name": "python",
   "nbconvert_exporter": "python",
   "pygments_lexer": "ipython3",
   "version": "3.5.2"
  }
 },
 "nbformat": 4,
 "nbformat_minor": 1
}
