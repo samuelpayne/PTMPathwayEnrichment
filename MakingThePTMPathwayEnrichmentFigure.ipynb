{
 "cells": [
  {
   "cell_type": "markdown",
   "metadata": {},
   "source": [
    "# Overall Flow\n",
    "\n",
    "There are several parsing steps that just put data into objects\n",
    "1. Parse the PSM files and get out Organism and Protein objects (currently done with .txt. goal to get .mzIdentML)\n",
    "2. KEGG mapping\n",
    "3. Run the Fisher's Exact test on all organisms and all pathways\n",
    "\n"
   ]
  },
  {
   "cell_type": "markdown",
   "metadata": {},
   "source": [
    "## Step 1. Parse PSM files\n",
    "At the end of this, we have a 'Parser.OrganismObjectsDictionary' variable that holds all the proteins and peptides found in an organism. The peptides are in the Protein object inside a dictionary keyed on their sequence"
   ]
  },
  {
   "cell_type": "code",
   "execution_count": 1,
   "metadata": {
    "collapsed": false
   },
   "outputs": [
    {
     "name": "stdout",
     "output_type": "stream",
     "text": [
      "I got this path PSM.Results/PSMFilesAssociatedByOrganism_new.txt\n",
      "The associations file listed 217 psm results files from 48 organisms\n"
     ]
    }
   ],
   "source": [
    "import IdentifyingPeptidesAndProteins\n",
    "Parser = IdentifyingPeptidesAndProteins.ParserClass()\n",
    "#parameters\n",
    "DirectoryOfPSMs = \"PSM.Results/Acetylation.DataPackage.1541.testing\"\n",
    "#DirectoryOfPSMs = \"PSM.Results/test\"\n",
    "FileToOrganismAssociation = \"PSM.Results/PSMFilesAssociatedByOrganism_new.txt\"\n",
    "Parser.AddFiles(DirectoryOfPSMs, FileToOrganismAssociation)\n",
    "#Parser.FileCheck() # called as part of main. but can be explicitly called here just to check\n",
    "\n",
    "Parser.SetQvalue(0.0001)\n",
    "Parser.Main()"
   ]
  },
  {
   "cell_type": "markdown",
   "metadata": {},
   "source": [
    "## Step 2 Parse the KEGG stuff\n",
    "This leaves us with two things. a ProteinAccessionToKO dictionary and a KOsInAPathway dictionary. With these we should be able to get what we need in terms of which proteins are assigned to which pathways"
   ]
  },
  {
   "cell_type": "code",
   "execution_count": 2,
   "metadata": {
    "collapsed": false
   },
   "outputs": [],
   "source": [
    "import ParsingKeggFiles\n",
    "K_Parser = ParsingKeggFiles.CreatorClass()\n",
    "#parameters\n",
    "DirectoryOfGhostKoalaAnnotations = \"GhostKoalaAnnotation\"\n",
    "#DirectoryOfGhostKoalaAnnotations = \"test_delme2\"\n",
    "PathwayMappingFilePath = \"ko_pathway.list\"\n",
    "KoalaFileToOrganismAssociation = \"GhostKoalaFilesAssociatedByOrganism.txt\"\n",
    "K_Parser.AddFiles(DirectoryOfGhostKoalaAnnotations, PathwayMappingFilePath)\n",
    "K_Parser.Main()"
   ]
  },
  {
   "cell_type": "markdown",
   "metadata": {},
   "source": [
    "## Step 3. Run the Fishers test for enrichment\n",
    "\n",
    "Go through all the organisms and create the numbers necessary for a fisher's test\n",
    "<pre>\n",
    "M = modified proteins\n",
    "N = not modified proteins\n",
    "P = proteins in a pathway\n",
    "\n",
    "x = IN_pathway && Modified = union of M and P\n",
    "M-x = NOT_IN_pathway && Modified\n",
    "P-x = IN_pathway && Not_Modified\n",
    "N-(P-x) = NOT_IN_pathway && Not_Modified\n",
    "</pre>\n",
    "\n",
    "\n",
    "Since all these are represented as variabled dependent on X, the only compute that we need to do\n",
    "is get the intersect of M and P and then len(P) and len(M).\n",
    "\n",
    "Based on https://docs.scipy.org/doc/scipy/reference/generated/scipy.stats.fisher_exact.html, we can use\n",
    "\n",
    "<pre>\n",
    "\n",
    "```python\n",
    "import scipy.stats as stats\n",
    "oddsratio, pvalue = stats.fisher_exact([[x, M-x], [P-x, N-(P-x)]])\n",
    "```\n",
    "\n",
    "</pre>\n"
   ]
  },
  {
   "cell_type": "code",
   "execution_count": 3,
   "metadata": {
    "collapsed": true
   },
   "outputs": [],
   "source": [
    "##some nice Methods and Classes that I'll put in it's own box\n",
    "\n",
    "def intersect(a, b):\n",
    "    return list(set(a) & set(b))\n",
    "\n",
    "\n",
    "class PathwayEnrichment:\n",
    "    #mostly a convenience class for making plots. Could all be done with a set\n",
    "    #of embedded dictionaries. But no one likes those.\n",
    "    def __init__(self, PathwayName):\n",
    "        self.PathwayName = PathwayName\n",
    "        self.EnrichmentByOrg = {} #key = organism name, value = pvalue\n",
    "    def GetEnrichmentList(self):\n",
    "        #return just a simple list of the pvalues, stripped from the association with an organism\n",
    "        return list(self.EnrichmentByOrg.values())\n",
    "    def AddValue(self, org, _pvalue):\n",
    "        self.EnrichmentByOrg[org] = pvalue\n",
    "    def GetMedian(self):\n",
    "        #this function looks at the pvalues and finds the median one.\n",
    "        ListOfPvalues = self.GetEnrichmentList()\n",
    "        ListOfPvalues.sort() #sort in place\n",
    "        Length = len(ListOfPvalues)\n",
    "        HalfWay = int(Length / 2 ) #probably not truly accurate because I don't average the middle if even length, \n",
    "        return ListOfPvalues[HalfWay]\n",
    "        "
   ]
  },
  {
   "cell_type": "code",
   "execution_count": 5,
   "metadata": {
    "collapsed": false
   },
   "outputs": [],
   "source": [
    "import scipy.stats as stats\n",
    "\n",
    "PathwayEnrichmentScores = {} # key = pathway, value = PathwayEnrichmentObject\n",
    "n_trials = len(K_Parser.KOsInAPathway) # for each organism, I will be testing the enrichment for n pathways\n",
    "\n",
    "for OrganismName in Parser.OrganismObjectsDictionary:\n",
    "    #if not OrganismName == \"Paenibacillus polymyxa ATCC842\":\n",
    "    #    #just for sanity in debugging\n",
    "    #    continue\n",
    "    OrganismObject = Parser.OrganismObjectsDictionary[OrganismName]\n",
    "    ModifiedProteinListAsAccessions = OrganismObject.GetModifiedProteinList()\n",
    "    ModifiedProteinListAsKO = K_Parser.ConvertListOfAccessionsToKOs(ModifiedProteinListAsAccessions)\n",
    "    num_M = len(ModifiedProteinListAsKO)\n",
    "    NotModifiedProteinListAsAccessions = OrganismObject.GetNotModifiedProteins()\n",
    "    NotModifiedProteinListAsKO = K_Parser.ConvertListOfAccessionsToKOs(NotModifiedProteinListAsAccessions)\n",
    "    num_N = len(NotModifiedProteinListAsKO)\n",
    "    ObservedProteinsAsAccessions = OrganismObject.Proteins.keys() #get all observed proteins\n",
    "    ObservedProteinsAsKO = K_Parser.ConvertListOfAccessionsToKOs(ObservedProteinsAsAccessions)\n",
    "    \n",
    "    ###now we are looking at the number of proteins both as accessions and as KOs\n",
    "    #print (OrganismName)\n",
    "    #print (\"Proteins with Mods: %s total, %s in KO\"%(len(ModifiedProteinListAsAccessions), len(ModifiedProteinListAsKO)))\n",
    "    #print (\"Proteins NO Mods: %s total, %s in KO\"%(len(NotModifiedProteinListAsAccessions), len(NotModifiedProteinListAsKO)))\n",
    "    \n",
    "    #now we test this list of protiens against the KEGG pathways for enrichment using a Fisher's Exact Test\n",
    "    #Rolling through all the pathways, because there are lots\n",
    "    for Pathway in K_Parser.KOsInAPathway:\n",
    "        if not Pathway in PathwayEnrichmentScores:\n",
    "            PathwayEnrichmentScores[Pathway] = PathwayEnrichment(Pathway)\n",
    "        \n",
    "        KOsInPathway = K_Parser.KOsInAPathway[Pathway]\n",
    "        #it's necessary to limit the list of KO identifiers in a specific pathway\n",
    "        #to only those that are observed in mass spectrometry data, otherwise\n",
    "        #we can end up with a negative number in Q4.\n",
    "        ObservedKOsInPathway = intersect(ObservedProteinsAsKO, KOsInPathway)\n",
    "        Intersection = intersect(ObservedKOsInPathway, ModifiedProteinListAsKO)\n",
    "        num_X = len(Intersection)\n",
    "        num_P = len(ObservedKOsInPathway)\n",
    "        Q1 = num_X\n",
    "        Q2 = num_M - num_X\n",
    "        Q3 = num_P - num_X\n",
    "        Q4 = num_N-(num_P-num_X)\n",
    "        #print(num_X, num_M, num_N, num_P)\n",
    "        oddsratio, pvalue = stats.fisher_exact([[Q1,Q2], [Q3,Q4]], alternative=\"greater\")\n",
    "        ## Multiple testing correction - using a simple Bonferroni correction\n",
    "        correctedPValue = pvalue * n_trials\n",
    "        PathwayEnrichmentScores[Pathway].AddValue(OrganismName, correctedPValue)\n"
   ]
  },
  {
   "cell_type": "markdown",
   "metadata": {},
   "source": [
    "## Step 4. Making Pictures\n",
    "Now I'm going through and trying to make images for the various pathways and PTMs"
   ]
  },
  {
   "cell_type": "code",
   "execution_count": 13,
   "metadata": {
    "collapsed": false
   },
   "outputs": [
    {
     "data": {
      "image/png": "[encoded data removed]",
      "text/plain": [
       "<matplotlib.figure.Figure at 0x9a9a358>"
      ]
     },
     "metadata": {},
     "output_type": "display_data"
    }
   ],
   "source": [
    "## now that I've computed all the enrichment scores, I will go through and see if any pathways\n",
    "## are frequently significant across multiple organisms.\n",
    "import matplotlib.pyplot as plt\n",
    "\n",
    "ListOfGoodPathways = [] # will serve as labels for the box plot\n",
    "DataForBoxPlot = [] #going to be a multidimensional array, appended over time\n",
    "\n",
    "\n",
    "for Pathway in K_Parser.KOsInAPathway: # this loops through the keys, which is the name of the pathways\n",
    "    MedianValue = PathwayEnrichmentScores[Pathway].GetMedian()\n",
    "    if MedianValue < 0.01:\n",
    "        ListOfGoodPathways.append(Pathway)\n",
    "        #lots of organisms got a good score here. let's print it out\n",
    "        #if Pathway in (\"map01200\", \"map03010\"):\n",
    "            #print (Pathway, K_Parser.PathwayDescriptions[Pathway])\n",
    "            #print (PathwayEnrichmentScores[Pathway].EnrichmentByOrg)\n",
    "#now we've cycled through all the pathways. Let's get working on that data structure for our boxplot\n",
    "\n",
    "numInclude = 0\n",
    "PlotLabels = []\n",
    "for Pathway in ListOfGoodPathways:\n",
    "    numInclude += 1\n",
    "    #if numInclude >=4:\n",
    "    #    continue\n",
    "    DataForBoxPlot.append( PathwayEnrichmentScores[Pathway].GetEnrichmentList())\n",
    "    PlotLabels.append(K_Parser.PathwayDescriptions[Pathway])\n",
    "\n",
    "    \n",
    "##Now put in a few groups for comparison so people can see some bad data\n",
    "#  map01230, Biosynthesis of amino acids\n",
    "DataForBoxPlot.append( PathwayEnrichmentScores['map01230'].GetEnrichmentList())\n",
    "PlotLabels.append(K_Parser.PathwayDescriptions['map01230'])\n",
    "\n",
    "    \n",
    "    \n",
    "fig = plt.figure()\n",
    "fig.suptitle('Pathway Enrichment of Protein Acetylation', fontsize=14, fontweight='bold')\n",
    "\n",
    "ax = fig.add_subplot(111)\n",
    "ax.set_xlabel('Enrichment Pvalue')\n",
    "\n",
    "#I rather dislike the ability to assign a variable within a function call. It looks awful to me\n",
    "#but apparently there are so many operaters that one can EITHER do by order or through assignment\n",
    "#this is real herasy, and horrible coding. But that is the way that matplotlib (and R) works.\n",
    "#until they FIX that, I'll be doing the  assignment route, because there is real potential \n",
    "# for confusion.  \n",
    "#notch=0 ==> regualr boxes, not notched boxes\n",
    "#sym='' ==> don't use any symbol to display outliers, could use 'rs' or 'b+' (works with showFliers)\n",
    "#--- see http://matplotlib.org/api/axes_api.html for all the shorthand of what could be used\n",
    "#vert=0 ==> a horizontal display, not vertical\n",
    "plt.boxplot(DataForBoxPlot, notch=0, showfliers=0, vert=0, labels=PlotLabels)\n",
    "plt.show()"
   ]
  },
  {
   "cell_type": "code",
   "execution_count": 11,
   "metadata": {
    "collapsed": false
   },
   "outputs": [
    {
     "name": "stdout",
     "output_type": "stream",
     "text": [
      "[0.29092785602223281, 0.28929691292837056, 0.013945029502704105, 0.26894282691187144, 0.00037107170033799609, 0.0006896371951446126, 1.507169275620059e-05, 0.55283591347798833, 0.24064302475203525, 0.00021526864874456039, 4.4859891392669258e-05, 0.030871019844310912, 0.11046603247361603, 0.15123629537225183, 0.068432131984664107, 0.011003117578842998, 4.0551707974891632e-09, 0.032505415840872895, 0.0060127926845793284, 0.17957991253020944, 0.96646021326810216, 0.64285656704599781, 0.51547191384540469, 0.43748877557329402, 0.00015140862998175067, 0.022544590240471389, 0.0058546444309733811, 0.0036456897461160523, 0.0012618013849245201, 0.18709795618711828, 0.25281146549790112, 0.0036146967747313638, 0.84984812317670222, 0.072260641868293896, 0.070606597547825195, 0.47872731786592715, 0.048628072104389068, 0.067503219223651628, 0.36551126824633562, 0.1198563443741375, 0.45541861038976272, 1.0855702907427898e-07, 0.012776448252650211, 0.28735078002154879, 0.45189612137656909, 0.0459342153920487, 0.040615207224626471, 0.39266854660296369]\n"
     ]
    }
   ],
   "source": [
    "#for key in K_Parser.KOsInAPathway.keys():\n",
    "#    print(\"%s, %s\"%(key, K_Parser.PathwayDescriptions[key]))\n",
    "\n",
    "#  map01230, Biosynthesis of amino acids\n",
    "print (PathwayEnrichmentScores['map01230'].GetEnrichmentList())"
   ]
  }
 ],
 "metadata": {
  "anaconda-cloud": {},
  "kernelspec": {
   "display_name": "Python [default]",
   "language": "python",
   "name": "python3"
  },
  "language_info": {
   "codemirror_mode": {
    "name": "ipython",
    "version": 3
   },
   "file_extension": ".py",
   "mimetype": "text/x-python",
   "name": "python",
   "nbconvert_exporter": "python",
   "pygments_lexer": "ipython3",
   "version": "3.5.2"
  }
 },
 "nbformat": 4,
 "nbformat_minor": 1
}
